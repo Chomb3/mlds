{
 "cells": [
  {
   "cell_type": "markdown",
   "id": "01dc24b3",
   "metadata": {},
   "source": [
    "# Las Matemáticas tras la Regresión Logistica"
   ]
  },
  {
   "cell_type": "markdown",
   "id": "7039cf75",
   "metadata": {},
   "source": [
    "## Las Tablas de Contingencia"
   ]
  },
  {
   "cell_type": "code",
   "execution_count": 1,
   "id": "011994d6",
   "metadata": {},
   "outputs": [],
   "source": [
    "import pandas as pd"
   ]
  },
  {
   "cell_type": "code",
   "execution_count": 2,
   "id": "112e27ed",
   "metadata": {},
   "outputs": [
    {
     "data": {
      "text/html": [
       "<div>\n",
       "<style scoped>\n",
       "    .dataframe tbody tr th:only-of-type {\n",
       "        vertical-align: middle;\n",
       "    }\n",
       "\n",
       "    .dataframe tbody tr th {\n",
       "        vertical-align: top;\n",
       "    }\n",
       "\n",
       "    .dataframe thead th {\n",
       "        text-align: right;\n",
       "    }\n",
       "</style>\n",
       "<table border=\"1\" class=\"dataframe\">\n",
       "  <thead>\n",
       "    <tr style=\"text-align: right;\">\n",
       "      <th></th>\n",
       "      <th>Gender</th>\n",
       "      <th>Purchase</th>\n",
       "    </tr>\n",
       "  </thead>\n",
       "  <tbody>\n",
       "    <tr>\n",
       "      <th>0</th>\n",
       "      <td>Female</td>\n",
       "      <td>Yes</td>\n",
       "    </tr>\n",
       "    <tr>\n",
       "      <th>1</th>\n",
       "      <td>Female</td>\n",
       "      <td>Yes</td>\n",
       "    </tr>\n",
       "    <tr>\n",
       "      <th>2</th>\n",
       "      <td>Female</td>\n",
       "      <td>No</td>\n",
       "    </tr>\n",
       "    <tr>\n",
       "      <th>3</th>\n",
       "      <td>Male</td>\n",
       "      <td>No</td>\n",
       "    </tr>\n",
       "    <tr>\n",
       "      <th>4</th>\n",
       "      <td>Male</td>\n",
       "      <td>Yes</td>\n",
       "    </tr>\n",
       "  </tbody>\n",
       "</table>\n",
       "</div>"
      ],
      "text/plain": [
       "   Gender Purchase\n",
       "0  Female      Yes\n",
       "1  Female      Yes\n",
       "2  Female       No\n",
       "3    Male       No\n",
       "4    Male      Yes"
      ]
     },
     "execution_count": 2,
     "metadata": {},
     "output_type": "execute_result"
    }
   ],
   "source": [
    "df = pd.read_csv(\"../../ReposCurso/python-ml-course/datasets/gender-purchase/Gender Purchase.csv\")\n",
    "df.head()"
   ]
  },
  {
   "cell_type": "code",
   "execution_count": 4,
   "id": "ca8053f4",
   "metadata": {},
   "outputs": [
    {
     "data": {
      "text/plain": [
       "(511, 2)"
      ]
     },
     "execution_count": 4,
     "metadata": {},
     "output_type": "execute_result"
    }
   ],
   "source": [
    "# Para ver cuantos registros hay\n",
    "df.shape"
   ]
  },
  {
   "cell_type": "code",
   "execution_count": 7,
   "id": "905e3205",
   "metadata": {},
   "outputs": [
    {
     "data": {
      "text/html": [
       "<div>\n",
       "<style scoped>\n",
       "    .dataframe tbody tr th:only-of-type {\n",
       "        vertical-align: middle;\n",
       "    }\n",
       "\n",
       "    .dataframe tbody tr th {\n",
       "        vertical-align: top;\n",
       "    }\n",
       "\n",
       "    .dataframe thead th {\n",
       "        text-align: right;\n",
       "    }\n",
       "</style>\n",
       "<table border=\"1\" class=\"dataframe\">\n",
       "  <thead>\n",
       "    <tr style=\"text-align: right;\">\n",
       "      <th>Purchase</th>\n",
       "      <th>No</th>\n",
       "      <th>Yes</th>\n",
       "    </tr>\n",
       "    <tr>\n",
       "      <th>Gender</th>\n",
       "      <th></th>\n",
       "      <th></th>\n",
       "    </tr>\n",
       "  </thead>\n",
       "  <tbody>\n",
       "    <tr>\n",
       "      <th>Female</th>\n",
       "      <td>106</td>\n",
       "      <td>159</td>\n",
       "    </tr>\n",
       "    <tr>\n",
       "      <th>Male</th>\n",
       "      <td>125</td>\n",
       "      <td>121</td>\n",
       "    </tr>\n",
       "  </tbody>\n",
       "</table>\n",
       "</div>"
      ],
      "text/plain": [
       "Purchase   No  Yes\n",
       "Gender            \n",
       "Female    106  159\n",
       "Male      125  121"
      ]
     },
     "execution_count": 7,
     "metadata": {},
     "output_type": "execute_result"
    }
   ],
   "source": [
    "# Crearemos una tabla de contingencia en donde cruzamos los datos de las columnas Gender y Purchase\n",
    "contingency_table = pd.crosstab(df[\"Gender\"], df[\"Purchase\"])\n",
    "contingency_table"
   ]
  },
  {
   "cell_type": "code",
   "execution_count": 9,
   "id": "697455d9",
   "metadata": {},
   "outputs": [
    {
     "data": {
      "text/plain": [
       "Gender\n",
       "Female    265\n",
       "Male      246\n",
       "dtype: int64"
      ]
     },
     "execution_count": 9,
     "metadata": {},
     "output_type": "execute_result"
    }
   ],
   "source": [
    "# Como ejemplo, podemos sumar la cantidad de hombres y mujeres que entraron en la tienda (suma horizontal axis = 1)\n",
    "contingency_table.sum(axis = 1)"
   ]
  },
  {
   "cell_type": "code",
   "execution_count": 10,
   "id": "b40b1d40",
   "metadata": {},
   "outputs": [
    {
     "data": {
      "text/plain": [
       "Purchase\n",
       "No     231\n",
       "Yes    280\n",
       "dtype: int64"
      ]
     },
     "execution_count": 10,
     "metadata": {},
     "output_type": "execute_result"
    }
   ],
   "source": [
    "# Para sumar cuantas personas NO compraron el producto y cuanta SI, hacemos una suma vertical (axis = 0)\n",
    "contingency_table.sum(axis = 0)"
   ]
  },
  {
   "cell_type": "code",
   "execution_count": 14,
   "id": "e95c493f",
   "metadata": {
    "scrolled": true
   },
   "outputs": [
    {
     "data": {
      "text/html": [
       "<div>\n",
       "<style scoped>\n",
       "    .dataframe tbody tr th:only-of-type {\n",
       "        vertical-align: middle;\n",
       "    }\n",
       "\n",
       "    .dataframe tbody tr th {\n",
       "        vertical-align: top;\n",
       "    }\n",
       "\n",
       "    .dataframe thead th {\n",
       "        text-align: right;\n",
       "    }\n",
       "</style>\n",
       "<table border=\"1\" class=\"dataframe\">\n",
       "  <thead>\n",
       "    <tr style=\"text-align: right;\">\n",
       "      <th>Purchase</th>\n",
       "      <th>No</th>\n",
       "      <th>Yes</th>\n",
       "    </tr>\n",
       "    <tr>\n",
       "      <th>Gender</th>\n",
       "      <th></th>\n",
       "      <th></th>\n",
       "    </tr>\n",
       "  </thead>\n",
       "  <tbody>\n",
       "    <tr>\n",
       "      <th>Female</th>\n",
       "      <td>0.40000</td>\n",
       "      <td>0.60000</td>\n",
       "    </tr>\n",
       "    <tr>\n",
       "      <th>Male</th>\n",
       "      <td>0.50813</td>\n",
       "      <td>0.49187</td>\n",
       "    </tr>\n",
       "  </tbody>\n",
       "</table>\n",
       "</div>"
      ],
      "text/plain": [
       "Purchase       No      Yes\n",
       "Gender                    \n",
       "Female    0.40000  0.60000\n",
       "Male      0.50813  0.49187"
      ]
     },
     "execution_count": 14,
     "metadata": {},
     "output_type": "execute_result"
    }
   ],
   "source": [
    "# Calcularemos la proporción de hombres y mujeres que compraron y no compraron (primero trasformar a float).\n",
    "# Se interpreta como que cada valor vertical (axis = 0), se divide por la suma de cada fila (axis = 1)\n",
    "contingency_table.astype(\"float\").div(contingency_table.sum(axis = 1), axis = 0)"
   ]
  },
  {
   "cell_type": "markdown",
   "id": "bcef4571",
   "metadata": {},
   "source": [
    "## La Probabilidad Condicional"
   ]
  },
  {
   "cell_type": "code",
   "execution_count": 30,
   "id": "f1390031",
   "metadata": {},
   "outputs": [],
   "source": [
    "from IPython.display import display, Math, Latex  # Latex para escribir formulas matemáticas en el notebook"
   ]
  },
  {
   "cell_type": "markdown",
   "id": "612e408c",
   "metadata": {},
   "source": [
    "* 1.- Cuál es la probabilidad de que un cliente compre un producto sabiendo que es un hombre?\n",
    "* 2.- Cuál es la probabilidad de que un cliente que compró un producto, sea mujer?"
   ]
  },
  {
   "cell_type": "code",
   "execution_count": 40,
   "id": "f318b172",
   "metadata": {
    "scrolled": false
   },
   "outputs": [
    {
     "data": {
      "text/latex": [
       "$\\displaystyle P(Purchase|Male) = \\frac{Total\\ Compras\\ Hechas\\ por\\ Hombres}{Total\\ de\\ Hombres} = \\frac{Purchase \\cap Male}{Male}$"
      ],
      "text/plain": [
       "<IPython.core.display.Math object>"
      ]
     },
     "metadata": {},
     "output_type": "display_data"
    },
    {
     "data": {
      "text/plain": [
       "0.491869918699187"
      ]
     },
     "execution_count": 40,
     "metadata": {},
     "output_type": "execute_result"
    }
   ],
   "source": [
    "# Usando el lenguaje Latex, escribimos la fórmula que describe la pregunta 1.\n",
    "display(Math(r'P(Purchase|Male) = \\frac{Total\\ Compras\\ Hechas\\ por\\ Hombres}{Total\\ de\\ Hombres} = \\frac{Purchase \\cap Male}{Male}'))\n",
    "# La respuesta:\n",
    "121/246"
   ]
  },
  {
   "cell_type": "code",
   "execution_count": 38,
   "id": "73b63b95",
   "metadata": {},
   "outputs": [
    {
     "data": {
      "text/latex": [
       "$\\displaystyle P(Female|Purchase) = \\frac{Total\\ Compras\\ Hechas\\ por\\ Mujeres}{Total\\ de\\ Compras} = \\frac{Female \\cap Purchase}{Purchase}$"
      ],
      "text/plain": [
       "<IPython.core.display.Math object>"
      ]
     },
     "metadata": {},
     "output_type": "display_data"
    }
   ],
   "source": [
    "# Escribimos en Latex la pregunta 2.\n",
    "display(Math(r'P(Female|Purchase) = \\frac{Total\\ Compras\\ Hechas\\ por\\ Mujeres}{Total\\ de\\ Compras} = \\frac{Female \\cap Purchase}{Purchase}'))\n",
    "# La respuesta:\n",
    "159/(159 + 121)"
   ]
  },
  {
   "cell_type": "markdown",
   "id": "86bf1ce7",
   "metadata": {},
   "source": [
    "## Ratio de Probabilidades\n",
    "Cociente entre los casos de éxito para cada grupo (ser hombre o mujer) entre la probabilidad de fracaso en el suceso estudiado."
   ]
  },
  {
   "cell_type": "code",
   "execution_count": 55,
   "id": "a4473b80",
   "metadata": {},
   "outputs": [
    {
     "data": {
      "text/latex": [
       "$\\displaystyle P_m = \\ Probabilidad\\ de\\ Compra\\ Sabiendo\\ que\\ es\\ un\\ Hombre$"
      ],
      "text/plain": [
       "<IPython.core.display.Math object>"
      ]
     },
     "metadata": {},
     "output_type": "display_data"
    },
    {
     "data": {
      "text/latex": [
       "$\\displaystyle P_f = \\ Probabilidad\\ de\\ Compra\\ Sabiendo\\ que\\ es\\ una\\ Mujer$"
      ],
      "text/plain": [
       "<IPython.core.display.Math object>"
      ]
     },
     "metadata": {},
     "output_type": "display_data"
    },
    {
     "data": {
      "text/latex": [
       "$\\displaystyle odds \\in[0, +\\infty]$"
      ],
      "text/plain": [
       "<IPython.core.display.Math object>"
      ]
     },
     "metadata": {},
     "output_type": "display_data"
    },
    {
     "data": {
      "text/latex": [
       "$\\displaystyle odds_{purchase, male} = \\frac{P_m}{1 - P_m} = \\frac{N_{p,m}}{N_{\\bar p,m}}$"
      ],
      "text/plain": [
       "<IPython.core.display.Math object>"
      ]
     },
     "metadata": {},
     "output_type": "display_data"
    },
    {
     "data": {
      "text/latex": [
       "$\\displaystyle odds_{purchase, female} = \\frac{P_f}{1 - P_f} = \\frac{N_{p,f}}{N_{\\bar p,f}}$"
      ],
      "text/plain": [
       "<IPython.core.display.Math object>"
      ]
     },
     "metadata": {},
     "output_type": "display_data"
    }
   ],
   "source": [
    "display(Math(r'P_m = \\ Probabilidad\\ de\\ Compra\\ Sabiendo\\ que\\ es\\ un\\ Hombre'))\n",
    "display(Math(r'P_f = \\ Probabilidad\\ de\\ Compra\\ Sabiendo\\ que\\ es\\ una\\ Mujer'))\n",
    "display(Math(r'odds \\in[0, +\\infty]'))\n",
    "display(Math(r'odds_{purchase, male} = \\frac{P_m}{1 - P_m} = \\frac{N_{p,m}}{N_{\\bar p,m}}'))   \n",
    "display(Math(r'odds_{purchase, female} = \\frac{P_f}{1 - P_f} = \\frac{N_{p,f}}{N_{\\bar p,f}}'))"
   ]
  },
  {
   "cell_type": "code",
   "execution_count": 50,
   "id": "f7158e82",
   "metadata": {},
   "outputs": [],
   "source": [
    "pm = 121/246\n",
    "pf = 159/265\n",
    "odds_m = pm/(1-pm) #125/125\n",
    "odds_f = pf/(1-pf) #159/106"
   ]
  },
  {
   "cell_type": "code",
   "execution_count": 48,
   "id": "6a00cafc",
   "metadata": {},
   "outputs": [
    {
     "data": {
      "text/plain": [
       "0.9680000000000002"
      ]
     },
     "execution_count": 48,
     "metadata": {},
     "output_type": "execute_result"
    }
   ],
   "source": [
    "odds_m"
   ]
  },
  {
   "cell_type": "code",
   "execution_count": 49,
   "id": "0eb1a7b7",
   "metadata": {},
   "outputs": [
    {
     "data": {
      "text/plain": [
       "1.4999999999999998"
      ]
     },
     "execution_count": 49,
     "metadata": {},
     "output_type": "execute_result"
    }
   ],
   "source": [
    "odds_f"
   ]
  },
  {
   "cell_type": "markdown",
   "id": "b993fde4",
   "metadata": {},
   "source": [
    "* Si el ratio es > 1, hay más probabilidades de éxito.\n",
    "* Si el ratio es < 1, hay más probabilidades de fracaso.\n",
    "* Si el ratio = 1, hay igual probabilidades de éxito que de fracaso (p = 0.5)."
   ]
  },
  {
   "cell_type": "code",
   "execution_count": 57,
   "id": "a3239342",
   "metadata": {},
   "outputs": [
    {
     "data": {
      "text/latex": [
       "$\\displaystyle odds_{ratio} = \\frac{odds_{purchase,male}}{odds_{purchase,female}}$"
      ],
      "text/plain": [
       "<IPython.core.display.Math object>"
      ]
     },
     "metadata": {},
     "output_type": "display_data"
    }
   ],
   "source": [
    "display(Math(r'odds_{ratio} = \\frac{odds_{purchase,male}}{odds_{purchase,female}}'))"
   ]
  },
  {
   "cell_type": "code",
   "execution_count": 59,
   "id": "1ac50ae8",
   "metadata": {},
   "outputs": [
    {
     "data": {
      "text/plain": [
       "0.6453333333333335"
      ]
     },
     "execution_count": 59,
     "metadata": {},
     "output_type": "execute_result"
    }
   ],
   "source": [
    "odds_r = odds_m / odds_f\n",
    "odds_r"
   ]
  },
  {
   "cell_type": "markdown",
   "id": "b3d8cc07",
   "metadata": {},
   "source": [
    "Al ser < 1, el denominador es mayor al númerador, por lo tanto indica que mujeres son más propensas a realizar una compra."
   ]
  },
  {
   "cell_type": "markdown",
   "id": "9fe36051",
   "metadata": {},
   "source": [
    "## La Regresión Logística desde la Regresión Lineal"
   ]
  },
  {
   "cell_type": "code",
   "execution_count": 64,
   "id": "5b45313b",
   "metadata": {},
   "outputs": [
    {
     "data": {
      "text/latex": [
       "$\\displaystyle y = \\alpha + \\beta \\cdot x$"
      ],
      "text/plain": [
       "<IPython.core.display.Math object>"
      ]
     },
     "metadata": {},
     "output_type": "display_data"
    },
    {
     "data": {
      "text/latex": [
       "$\\displaystyle [x,y]\\in [-\\infty, +\\infty]^2$"
      ],
      "text/plain": [
       "<IPython.core.display.Math object>"
      ]
     },
     "metadata": {},
     "output_type": "display_data"
    }
   ],
   "source": [
    "# Ecuacuón de la regresión lineal donde X e Y pueden tomar cualquier valor.\n",
    "display(Math(r'y = \\alpha + \\beta \\cdot x'))\n",
    "display(Math(r'[x,y]\\in [-\\infty, +\\infty]^2'))"
   ]
  },
  {
   "cell_type": "code",
   "execution_count": 97,
   "id": "b1c898ae",
   "metadata": {},
   "outputs": [
    {
     "data": {
      "text/latex": [
       "$\\displaystyle Y\\in\\{0,1\\}$"
      ],
      "text/plain": [
       "<IPython.core.display.Math object>"
      ]
     },
     "metadata": {},
     "output_type": "display_data"
    },
    {
     "data": {
      "text/latex": [
       "$\\displaystyle P\\in [0,1]$"
      ],
      "text/plain": [
       "<IPython.core.display.Math object>"
      ]
     },
     "metadata": {},
     "output_type": "display_data"
    },
    {
     "data": {
      "text/latex": [
       "$\\displaystyle X\\in [-\\infty, \\infty]$"
      ],
      "text/plain": [
       "<IPython.core.display.Math object>"
      ]
     },
     "metadata": {},
     "output_type": "display_data"
    },
    {
     "data": {
      "text/latex": [
       "$\\displaystyle P = \\alpha + \\beta\\cdot X$"
      ],
      "text/plain": [
       "<IPython.core.display.Math object>"
      ]
     },
     "metadata": {},
     "output_type": "display_data"
    }
   ],
   "source": [
    "# En la regresión logística, Y tiene que ser discreta, o sea tomar valores 0 o 1\n",
    "display(Math(r'Y\\in\\{0,1\\}'))\n",
    "# Buscaremos la probabilidad de que un suceso ocurra, con P que responda 0 o 1\n",
    "display(Math(r'P\\in [0,1]'))\n",
    "# X puede ser cualquier valor entre -inf y +inf\n",
    "display(Math(r'X\\in [-\\infty, \\infty]')) \n",
    "# Por lo tanto podríamos tratar de predecir la regresión logistica, adoptando un modelo lineal\n",
    "display(Math(r'P = \\alpha + \\beta\\cdot X'))"
   ]
  },
  {
   "cell_type": "markdown",
   "id": "cfe97196",
   "metadata": {},
   "source": [
    "P es la probabilidad condicionada de éxito o de fracaso condicionada a la presencia de la variable X"
   ]
  },
  {
   "cell_type": "code",
   "execution_count": 98,
   "id": "95246cdf",
   "metadata": {},
   "outputs": [
    {
     "data": {
      "text/latex": [
       "$\\displaystyle \\frac{P}{1-P} = \\alpha + \\beta\\cdot X\\in [0, +\\infty]$"
      ],
      "text/plain": [
       "<IPython.core.display.Math object>"
      ]
     },
     "metadata": {},
     "output_type": "display_data"
    }
   ],
   "source": [
    "display(Math(r'\\frac{P}{1-P} = \\alpha + \\beta\\cdot X\\in [0, +\\infty]'))"
   ]
  },
  {
   "cell_type": "code",
   "execution_count": 101,
   "id": "0d4e1ac2",
   "metadata": {},
   "outputs": [
    {
     "data": {
      "text/latex": [
       "$\\displaystyle ln(\\frac{P}{1-P}) = \\alpha + \\beta\\cdot X$"
      ],
      "text/plain": [
       "<IPython.core.display.Math object>"
      ]
     },
     "metadata": {},
     "output_type": "display_data"
    }
   ],
   "source": [
    "# P/(1-P) está entre 0 e infinito: Aplicamos logaritmo natural/neperiano, resultándonos la siguiente Ecuación.\n",
    "display(Math(r'ln(\\frac{P}{1-P}) = \\alpha + \\beta\\cdot X'))"
   ]
  },
  {
   "cell_type": "code",
   "execution_count": 102,
   "id": "b7691869",
   "metadata": {},
   "outputs": [
    {
     "data": {
      "text/latex": [
       "$\\displaystyle \\begin{cases}\\frac{P}{1-P}\\in[0,1]\\Rightarrow ln(\\frac{P}{1-P}\\in[-\\infty,0] )\\\\ \\frac{P}{1-P}\\in[1,+\\infty]\\Rightarrow ln(\\frac{P}{1-P}\\in[0,\\infty] )\\end{cases}$"
      ],
      "text/plain": [
       "<IPython.core.display.Math object>"
      ]
     },
     "metadata": {},
     "output_type": "display_data"
    }
   ],
   "source": [
    "display(Math(r'\\begin{cases}\\frac{P}{1-P}\\in[0,1]\\Rightarrow ln(\\frac{P}{1-P}\\in[-\\infty,0] )\\\\ \\frac{P}{1-P}\\in[1,+\\infty]\\Rightarrow ln(\\frac{P}{1-P}\\in[0,\\infty] )\\end{cases}'))"
   ]
  },
  {
   "cell_type": "code",
   "execution_count": 124,
   "id": "cf576949",
   "metadata": {},
   "outputs": [
    {
     "data": {
      "text/latex": [
       "$\\displaystyle $"
      ],
      "text/plain": [
       "<IPython.core.display.Math object>"
      ]
     },
     "metadata": {},
     "output_type": "display_data"
    },
    {
     "data": {
      "text/latex": [
       "$\\displaystyle 1)\\ \\ln(\\frac{P}{1-P}) = \\alpha + \\beta\\cdot X$"
      ],
      "text/plain": [
       "<IPython.core.display.Math object>"
      ]
     },
     "metadata": {},
     "output_type": "display_data"
    },
    {
     "data": {
      "text/latex": [
       "$\\displaystyle 2)\\ \\frac{P}{1-P} = e^{\\alpha + \\beta\\cdot X}$"
      ],
      "text/plain": [
       "<IPython.core.display.Math object>"
      ]
     },
     "metadata": {},
     "output_type": "display_data"
    },
    {
     "data": {
      "text/latex": [
       "$\\displaystyle 3)\\ P = \\frac{e^{\\alpha + \\beta \\cdot X}}{1+e^{\\alpha + \\beta \\cdot X}}$"
      ],
      "text/plain": [
       "<IPython.core.display.Math object>"
      ]
     },
     "metadata": {},
     "output_type": "display_data"
    },
    {
     "data": {
      "text/latex": [
       "$\\displaystyle 4)\\ P = \\frac{1}{1+e^{-(\\alpha + \\beta \\cdot X)}}$"
      ],
      "text/plain": [
       "<IPython.core.display.Math object>"
      ]
     },
     "metadata": {},
     "output_type": "display_data"
    }
   ],
   "source": [
    "# Para quitar el logaritmo de nuestra ecuación, aplicamos e\n",
    "display(Math(r'1)\\ \\ln(\\frac{P}{1-P}) = \\alpha + \\beta\\cdot X'))\n",
    "display(Math(r'2)\\ \\frac{P}{1-P} = e^{\\alpha + \\beta\\cdot X}'))\n",
    "display(Math(r'3)\\ P = \\frac{e^{\\alpha + \\beta \\cdot X}}{1+e^{\\alpha + \\beta \\cdot X}}'))\n",
    "# Finalmente la ecuación queda:\n",
    "display(Math(r'4)\\ P = \\frac{1}{1+e^{-(\\alpha + \\beta \\cdot X)}}'))"
   ]
  },
  {
   "cell_type": "markdown",
   "id": "fb5ac893",
   "metadata": {},
   "source": [
    "* Si a + bX es muy pequeño (negativo), entonces P tiende a 1.\n",
    "* Si a + bX = 0, P = 0.5\n",
    "* Si a + bX es muy grande (positivo), entonces P tiende a 1."
   ]
  },
  {
   "cell_type": "markdown",
   "id": "160c935d",
   "metadata": {},
   "source": [
    "### Regresión Logística Múltiple"
   ]
  },
  {
   "cell_type": "code",
   "execution_count": 127,
   "id": "517be17f",
   "metadata": {},
   "outputs": [
    {
     "data": {
      "text/latex": [
       "$\\displaystyle P = \\frac{1}{1+e^{-(\\alpha + \\sum_{i=1}^n \\beta_i \\cdot x_i)}}$"
      ],
      "text/plain": [
       "<IPython.core.display.Math object>"
      ]
     },
     "metadata": {},
     "output_type": "display_data"
    }
   ],
   "source": [
    "display(Math(r'P = \\frac{1}{1+e^{-(\\alpha + \\sum_{i=1}^n \\beta_i \\cdot x_i)}}'))"
   ]
  },
  {
   "cell_type": "code",
   "execution_count": 140,
   "id": "2a9256a4",
   "metadata": {},
   "outputs": [
    {
     "data": {
      "text/latex": [
       "$\\displaystyle  \\vec \\beta = (\\beta_1, \\beta_2,\\cdots, \\beta_n)$"
      ],
      "text/plain": [
       "<IPython.core.display.Math object>"
      ]
     },
     "metadata": {},
     "output_type": "display_data"
    },
    {
     "data": {
      "text/latex": [
       "$\\displaystyle  \\vec X = (x_1, x_2,\\cdots, x_n)$"
      ],
      "text/plain": [
       "<IPython.core.display.Math object>"
      ]
     },
     "metadata": {},
     "output_type": "display_data"
    },
    {
     "data": {
      "text/latex": [
       "$\\displaystyle P = \\frac{1}{1+e^{-(\\alpha+\\vec\\beta_1\\cdot \\vec X)}}$"
      ],
      "text/plain": [
       "<IPython.core.display.Math object>"
      ]
     },
     "metadata": {},
     "output_type": "display_data"
    }
   ],
   "source": [
    "# Otra manera de obtener la P para regresión Logística Múltiple usando vectores.\n",
    "display(Math(r' \\vec \\beta = (\\beta_1, \\beta_2,\\cdots, \\beta_n)'))\n",
    "display(Math(r' \\vec X = (x_1, x_2,\\cdots, x_n)'))\n",
    "display(Math(r'P = \\frac{1}{1+e^{-(\\alpha+\\vec\\beta_1\\cdot \\vec X)}}'))"
   ]
  }
 ],
 "metadata": {
  "kernelspec": {
   "display_name": "Python 3 (ipykernel)",
   "language": "python",
   "name": "python3"
  },
  "language_info": {
   "codemirror_mode": {
    "name": "ipython",
    "version": 3
   },
   "file_extension": ".py",
   "mimetype": "text/x-python",
   "name": "python",
   "nbconvert_exporter": "python",
   "pygments_lexer": "ipython3",
   "version": "3.9.7"
  }
 },
 "nbformat": 4,
 "nbformat_minor": 5
}
