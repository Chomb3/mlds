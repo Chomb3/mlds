{
 "cells": [
  {
   "cell_type": "markdown",
   "id": "10e556fc",
   "metadata": {},
   "source": [
    "# Modelos de Regresion Lineal\n",
    "\n",
    "## Modelo con Datos Simulados\n",
    "* y = a + b * x\n",
    "* X : 100 valores distribuidos según una N(1.5, 2.5) -> N = normal\n",
    "* Ye = 5 + 1.9 * x + e   -> e = error\n",
    "* e estará distribuído seún una N(0, 0.8)"
   ]
  },
  {
   "cell_type": "code",
   "execution_count": 298,
   "id": "5f07883a",
   "metadata": {},
   "outputs": [],
   "source": [
    "import pandas as pd\n",
    "import numpy as np"
   ]
  },
  {
   "cell_type": "code",
   "execution_count": 299,
   "id": "3beceb84",
   "metadata": {},
   "outputs": [],
   "source": [
    "x = 1.5 + 2.5 * np.random.randn(100)"
   ]
  },
  {
   "cell_type": "code",
   "execution_count": 300,
   "id": "3fd59288",
   "metadata": {},
   "outputs": [],
   "source": [
    "res = 0 + 0.8 * np.random.randn(100)   # -> res = residuo"
   ]
  },
  {
   "cell_type": "code",
   "execution_count": 301,
   "id": "bf1935b0",
   "metadata": {},
   "outputs": [],
   "source": [
    "y_pred = 5 + 0.3 * x    # -> pred = predicción"
   ]
  },
  {
   "cell_type": "code",
   "execution_count": 302,
   "id": "a49dab65",
   "metadata": {},
   "outputs": [],
   "source": [
    "y_act = 5 + 0.3 * x + res   # -> act = actual"
   ]
  },
  {
   "cell_type": "code",
   "execution_count": 303,
   "id": "8909ef1e",
   "metadata": {},
   "outputs": [],
   "source": [
    "x_list = x.tolist()\n",
    "y_pred_list = y_pred.tolist()\n",
    "y_act_list = y_act.tolist()"
   ]
  },
  {
   "cell_type": "code",
   "execution_count": 304,
   "id": "4dacf525",
   "metadata": {},
   "outputs": [],
   "source": [
    "data = pd.DataFrame(\n",
    "    {\n",
    "        \"x\" : x_list,\n",
    "        \"y_actual\" : y_act_list,\n",
    "        \"y_prediccion\" : y_pred_list\n",
    "    }\n",
    ")"
   ]
  },
  {
   "cell_type": "code",
   "execution_count": 305,
   "id": "ba12adcc",
   "metadata": {},
   "outputs": [
    {
     "data": {
      "text/html": [
       "<div>\n",
       "<style scoped>\n",
       "    .dataframe tbody tr th:only-of-type {\n",
       "        vertical-align: middle;\n",
       "    }\n",
       "\n",
       "    .dataframe tbody tr th {\n",
       "        vertical-align: top;\n",
       "    }\n",
       "\n",
       "    .dataframe thead th {\n",
       "        text-align: right;\n",
       "    }\n",
       "</style>\n",
       "<table border=\"1\" class=\"dataframe\">\n",
       "  <thead>\n",
       "    <tr style=\"text-align: right;\">\n",
       "      <th></th>\n",
       "      <th>x</th>\n",
       "      <th>y_actual</th>\n",
       "      <th>y_prediccion</th>\n",
       "    </tr>\n",
       "  </thead>\n",
       "  <tbody>\n",
       "    <tr>\n",
       "      <th>0</th>\n",
       "      <td>2.548156</td>\n",
       "      <td>4.560985</td>\n",
       "      <td>5.764447</td>\n",
       "    </tr>\n",
       "    <tr>\n",
       "      <th>1</th>\n",
       "      <td>-0.442607</td>\n",
       "      <td>5.456395</td>\n",
       "      <td>4.867218</td>\n",
       "    </tr>\n",
       "    <tr>\n",
       "      <th>2</th>\n",
       "      <td>-0.062845</td>\n",
       "      <td>4.348453</td>\n",
       "      <td>4.981146</td>\n",
       "    </tr>\n",
       "    <tr>\n",
       "      <th>3</th>\n",
       "      <td>4.153368</td>\n",
       "      <td>6.426827</td>\n",
       "      <td>6.246011</td>\n",
       "    </tr>\n",
       "    <tr>\n",
       "      <th>4</th>\n",
       "      <td>4.051282</td>\n",
       "      <td>5.486178</td>\n",
       "      <td>6.215385</td>\n",
       "    </tr>\n",
       "  </tbody>\n",
       "</table>\n",
       "</div>"
      ],
      "text/plain": [
       "          x  y_actual  y_prediccion\n",
       "0  2.548156  4.560985      5.764447\n",
       "1 -0.442607  5.456395      4.867218\n",
       "2 -0.062845  4.348453      4.981146\n",
       "3  4.153368  6.426827      6.246011\n",
       "4  4.051282  5.486178      6.215385"
      ]
     },
     "execution_count": 305,
     "metadata": {},
     "output_type": "execute_result"
    }
   ],
   "source": [
    "data.head()"
   ]
  },
  {
   "cell_type": "code",
   "execution_count": 306,
   "id": "3514ece7",
   "metadata": {},
   "outputs": [],
   "source": [
    "import matplotlib.pyplot as plt"
   ]
  },
  {
   "cell_type": "code",
   "execution_count": 307,
   "id": "782c796b",
   "metadata": {},
   "outputs": [],
   "source": [
    "y_mean = [np.mean(y_act) for i in range(1, len(x_list) +1)]    # Promedio"
   ]
  },
  {
   "cell_type": "code",
   "execution_count": 308,
   "id": "7a3574ee",
   "metadata": {},
   "outputs": [
    {
     "data": {
      "text/plain": [
       "Text(0.5, 1.0, 'Valor Actual vs Preddicción')"
      ]
     },
     "execution_count": 308,
     "metadata": {},
     "output_type": "execute_result"
    },
    {
     "data": {
      "image/png": "[encoded data removed]",
      "text/plain": [
       "<Figure size 432x288 with 1 Axes>"
      ]
     },
     "metadata": {
      "needs_background": "light"
     },
     "output_type": "display_data"
    }
   ],
   "source": [
    "%matplotlib inline\n",
    "plt.plot(x, y_pred)\n",
    "plt.plot(x, y_act, \"ro\")\n",
    "plt.plot(x, y_mean, \"g\")\n",
    "plt.title(\"Valor Actual vs Preddicción\")"
   ]
  },
  {
   "cell_type": "markdown",
   "id": "520e831a",
   "metadata": {},
   "source": [
    "* SSD = Suma de los cuadrados de las diferencias -> Diferencia entre un punto que está fuera de la recta y la recta.\n",
    "* SST = Suma de los cuadrados totales -> Diferencia entre un punto que no esté sobre la recta y el promedio.\n",
    "* SSR = Suma de los cuadrados de la regresión -> Diferencia entre la recta (azul) y el promedio (verde)\n",
    "\n",
    "* SST = SSR + SSD\n",
    "* R^2 = SSR / SST -> Mientras mas cerca de 1, mejor será el modelo."
   ]
  },
  {
   "cell_type": "code",
   "execution_count": 309,
   "id": "51e70a61",
   "metadata": {},
   "outputs": [],
   "source": [
    "data[\"SSR\"] = (data[\"y_prediccion\"] - np.mean(y_act))**2\n",
    "data[\"SSD\"] = (data[\"y_prediccion\"] - data[\"y_actual\"])**2\n",
    "data[\"SST\"] = (data[\"y_actual\"] - np.mean(y_act))**2"
   ]
  },
  {
   "cell_type": "code",
   "execution_count": 310,
   "id": "a4d01d3f",
   "metadata": {},
   "outputs": [
    {
     "data": {
      "text/html": [
       "<div>\n",
       "<style scoped>\n",
       "    .dataframe tbody tr th:only-of-type {\n",
       "        vertical-align: middle;\n",
       "    }\n",
       "\n",
       "    .dataframe tbody tr th {\n",
       "        vertical-align: top;\n",
       "    }\n",
       "\n",
       "    .dataframe thead th {\n",
       "        text-align: right;\n",
       "    }\n",
       "</style>\n",
       "<table border=\"1\" class=\"dataframe\">\n",
       "  <thead>\n",
       "    <tr style=\"text-align: right;\">\n",
       "      <th></th>\n",
       "      <th>x</th>\n",
       "      <th>y_actual</th>\n",
       "      <th>y_prediccion</th>\n",
       "      <th>SSR</th>\n",
       "      <th>SSD</th>\n",
       "      <th>SST</th>\n",
       "    </tr>\n",
       "  </thead>\n",
       "  <tbody>\n",
       "    <tr>\n",
       "      <th>0</th>\n",
       "      <td>2.548156</td>\n",
       "      <td>4.560985</td>\n",
       "      <td>5.764447</td>\n",
       "      <td>0.129113</td>\n",
       "      <td>1.448322</td>\n",
       "      <td>0.712572</td>\n",
       "    </tr>\n",
       "    <tr>\n",
       "      <th>1</th>\n",
       "      <td>-0.442607</td>\n",
       "      <td>5.456395</td>\n",
       "      <td>4.867218</td>\n",
       "      <td>0.289343</td>\n",
       "      <td>0.347130</td>\n",
       "      <td>0.002629</td>\n",
       "    </tr>\n",
       "    <tr>\n",
       "      <th>2</th>\n",
       "      <td>-0.062845</td>\n",
       "      <td>4.348453</td>\n",
       "      <td>4.981146</td>\n",
       "      <td>0.179757</td>\n",
       "      <td>0.400301</td>\n",
       "      <td>1.116554</td>\n",
       "    </tr>\n",
       "    <tr>\n",
       "      <th>3</th>\n",
       "      <td>4.153368</td>\n",
       "      <td>6.426827</td>\n",
       "      <td>6.246011</td>\n",
       "      <td>0.707090</td>\n",
       "      <td>0.032695</td>\n",
       "      <td>1.043877</td>\n",
       "    </tr>\n",
       "    <tr>\n",
       "      <th>4</th>\n",
       "      <td>4.051282</td>\n",
       "      <td>5.486178</td>\n",
       "      <td>6.215385</td>\n",
       "      <td>0.656522</td>\n",
       "      <td>0.531742</td>\n",
       "      <td>0.006570</td>\n",
       "    </tr>\n",
       "  </tbody>\n",
       "</table>\n",
       "</div>"
      ],
      "text/plain": [
       "          x  y_actual  y_prediccion       SSR       SSD       SST\n",
       "0  2.548156  4.560985      5.764447  0.129113  1.448322  0.712572\n",
       "1 -0.442607  5.456395      4.867218  0.289343  0.347130  0.002629\n",
       "2 -0.062845  4.348453      4.981146  0.179757  0.400301  1.116554\n",
       "3  4.153368  6.426827      6.246011  0.707090  0.032695  1.043877\n",
       "4  4.051282  5.486178      6.215385  0.656522  0.531742  0.006570"
      ]
     },
     "execution_count": 310,
     "metadata": {},
     "output_type": "execute_result"
    }
   ],
   "source": [
    "data.head()"
   ]
  },
  {
   "cell_type": "code",
   "execution_count": 311,
   "id": "45010783",
   "metadata": {},
   "outputs": [],
   "source": [
    "SSR = sum(data[\"SSR\"])\n",
    "SSD = sum(data[\"SSD\"])\n",
    "SST = sum(data[\"SST\"])"
   ]
  },
  {
   "cell_type": "code",
   "execution_count": 312,
   "id": "ced01b79",
   "metadata": {},
   "outputs": [
    {
     "data": {
      "text/plain": [
       "47.7075746293674"
      ]
     },
     "execution_count": 312,
     "metadata": {},
     "output_type": "execute_result"
    }
   ],
   "source": [
    "SSR"
   ]
  },
  {
   "cell_type": "code",
   "execution_count": 313,
   "id": "b9473147",
   "metadata": {},
   "outputs": [
    {
     "data": {
      "text/plain": [
       "61.80166804005674"
      ]
     },
     "execution_count": 313,
     "metadata": {},
     "output_type": "execute_result"
    }
   ],
   "source": [
    "SSD"
   ]
  },
  {
   "cell_type": "code",
   "execution_count": 314,
   "id": "d4592f4b",
   "metadata": {},
   "outputs": [
    {
     "data": {
      "text/plain": [
       "108.30162414343403"
      ]
     },
     "execution_count": 314,
     "metadata": {},
     "output_type": "execute_result"
    }
   ],
   "source": [
    "SST"
   ]
  },
  {
   "cell_type": "code",
   "execution_count": 315,
   "id": "177b4117",
   "metadata": {},
   "outputs": [
    {
     "data": {
      "text/plain": [
       "109.50924266942414"
      ]
     },
     "execution_count": 315,
     "metadata": {},
     "output_type": "execute_result"
    }
   ],
   "source": [
    " SSR + SSD"
   ]
  },
  {
   "cell_type": "code",
   "execution_count": 316,
   "id": "839a35e1",
   "metadata": {},
   "outputs": [
    {
     "data": {
      "text/plain": [
       "0.4405065483245549"
      ]
     },
     "execution_count": 316,
     "metadata": {},
     "output_type": "execute_result"
    }
   ],
   "source": [
    "R2 = SSR / SST\n",
    "R2"
   ]
  },
  {
   "cell_type": "markdown",
   "id": "19307553",
   "metadata": {},
   "source": [
    "Por lo tanto la predicción de 'y' es bastante acertado con los datos actuales."
   ]
  },
  {
   "cell_type": "code",
   "execution_count": 317,
   "id": "48772f3e",
   "metadata": {},
   "outputs": [
    {
     "data": {
      "text/plain": [
       "(array([ 1.,  5.,  5.,  8., 15., 21., 17., 14.,  8.,  6.]),\n",
       " array([-2.10898273, -1.73824834, -1.36751395, -0.99677956, -0.62604517,\n",
       "        -0.25531078,  0.11542361,  0.486158  ,  0.85689239,  1.22762677,\n",
       "         1.59836116]),\n",
       " <BarContainer object of 10 artists>)"
      ]
     },
     "execution_count": 317,
     "metadata": {},
     "output_type": "execute_result"
    },
    {
     "data": {
      "image/png": "[encoded data removed]",
      "text/plain": [
       "<Figure size 432x288 with 1 Axes>"
      ]
     },
     "metadata": {
      "needs_background": "light"
     },
     "output_type": "display_data"
    }
   ],
   "source": [
    "plt.hist(data[\"y_prediccion\"] - data[\"y_actual\"])"
   ]
  },
  {
   "cell_type": "markdown",
   "id": "523ee555",
   "metadata": {},
   "source": [
    "## Obteniendo la Recta de Regresión"
   ]
  },
  {
   "cell_type": "markdown",
   "id": "9e1c8774",
   "metadata": {},
   "source": [
    "* y = a + b * x\n",
    "* b = sum((xi - x_m) * (y_i - y_m)) / sum((xi - x_m)^2)\n",
    "* a = y_m - b * x_m"
   ]
  },
  {
   "cell_type": "code",
   "execution_count": 318,
   "id": "c6150970",
   "metadata": {},
   "outputs": [
    {
     "data": {
      "text/plain": [
       "(1.421043656033578, 5.405124234520571)"
      ]
     },
     "execution_count": 318,
     "metadata": {},
     "output_type": "execute_result"
    }
   ],
   "source": [
    "x_mean = np.mean(data[\"x\"])          ## Promedio de x\n",
    "y_mean = np.mean(data[\"y_actual\"])   ## Promedio de y\n",
    "x_mean, y_mean"
   ]
  },
  {
   "cell_type": "code",
   "execution_count": 319,
   "id": "39240651",
   "metadata": {},
   "outputs": [],
   "source": [
    "# Calcularemos el numerador de beta y luego el denominador\n",
    "data[\"beta_n\"] = (data[\"x\"] - x_mean) * (data[\"y_actual\"] - y_mean) # numerador\n",
    "data[\"beta_d\"] = (data[\"x\"] - x_mean)**2  # denominador"
   ]
  },
  {
   "cell_type": "code",
   "execution_count": 320,
   "id": "8f0cd1db",
   "metadata": {},
   "outputs": [],
   "source": [
    "beta = sum(data[\"beta_n\"]) / sum(data[\"beta_d\"])"
   ]
  },
  {
   "cell_type": "code",
   "execution_count": 321,
   "id": "32b0edc6",
   "metadata": {},
   "outputs": [],
   "source": [
    "alpha = y_mean - beta * x_mean"
   ]
  },
  {
   "cell_type": "code",
   "execution_count": 322,
   "id": "cee05957",
   "metadata": {},
   "outputs": [
    {
     "data": {
      "text/plain": [
       "(4.983810263203154, 0.29648207465588344)"
      ]
     },
     "execution_count": 322,
     "metadata": {},
     "output_type": "execute_result"
    }
   ],
   "source": [
    "# Vemos si alpha y beta coinciden con la predicción que habiamos hecho en y_pred ->  (5 y 1.9)\n",
    "alpha, beta"
   ]
  },
  {
   "cell_type": "markdown",
   "id": "36f572eb",
   "metadata": {},
   "source": [
    "El modelo lineal obtenido por regresión es: y = 5.120693569826769 + 1.897407646337951 * x"
   ]
  },
  {
   "cell_type": "code",
   "execution_count": 323,
   "id": "00e8a639",
   "metadata": {},
   "outputs": [],
   "source": [
    "# Creamos en el dataframe una columna adicional y_model\n",
    "data[\"y_model\"] = alpha + beta * data[\"x\"]"
   ]
  },
  {
   "cell_type": "code",
   "execution_count": 324,
   "id": "b5bfb7b0",
   "metadata": {},
   "outputs": [
    {
     "data": {
      "text/html": [
       "<div>\n",
       "<style scoped>\n",
       "    .dataframe tbody tr th:only-of-type {\n",
       "        vertical-align: middle;\n",
       "    }\n",
       "\n",
       "    .dataframe tbody tr th {\n",
       "        vertical-align: top;\n",
       "    }\n",
       "\n",
       "    .dataframe thead th {\n",
       "        text-align: right;\n",
       "    }\n",
       "</style>\n",
       "<table border=\"1\" class=\"dataframe\">\n",
       "  <thead>\n",
       "    <tr style=\"text-align: right;\">\n",
       "      <th></th>\n",
       "      <th>x</th>\n",
       "      <th>y_actual</th>\n",
       "      <th>y_prediccion</th>\n",
       "      <th>SSR</th>\n",
       "      <th>SSD</th>\n",
       "      <th>SST</th>\n",
       "      <th>beta_n</th>\n",
       "      <th>beta_d</th>\n",
       "      <th>y_model</th>\n",
       "    </tr>\n",
       "  </thead>\n",
       "  <tbody>\n",
       "    <tr>\n",
       "      <th>0</th>\n",
       "      <td>2.548156</td>\n",
       "      <td>4.560985</td>\n",
       "      <td>5.764447</td>\n",
       "      <td>0.129113</td>\n",
       "      <td>1.448322</td>\n",
       "      <td>0.712572</td>\n",
       "      <td>-0.951441</td>\n",
       "      <td>1.270383</td>\n",
       "      <td>5.739293</td>\n",
       "    </tr>\n",
       "    <tr>\n",
       "      <th>1</th>\n",
       "      <td>-0.442607</td>\n",
       "      <td>5.456395</td>\n",
       "      <td>4.867218</td>\n",
       "      <td>0.289343</td>\n",
       "      <td>0.347130</td>\n",
       "      <td>0.002629</td>\n",
       "      <td>-0.095551</td>\n",
       "      <td>3.473193</td>\n",
       "      <td>4.852585</td>\n",
       "    </tr>\n",
       "    <tr>\n",
       "      <th>2</th>\n",
       "      <td>-0.062845</td>\n",
       "      <td>4.348453</td>\n",
       "      <td>4.981146</td>\n",
       "      <td>0.179757</td>\n",
       "      <td>0.400301</td>\n",
       "      <td>1.116554</td>\n",
       "      <td>1.567983</td>\n",
       "      <td>2.201926</td>\n",
       "      <td>4.965178</td>\n",
       "    </tr>\n",
       "    <tr>\n",
       "      <th>3</th>\n",
       "      <td>4.153368</td>\n",
       "      <td>6.426827</td>\n",
       "      <td>6.246011</td>\n",
       "      <td>0.707090</td>\n",
       "      <td>0.032695</td>\n",
       "      <td>1.043877</td>\n",
       "      <td>2.791624</td>\n",
       "      <td>7.465598</td>\n",
       "      <td>6.215210</td>\n",
       "    </tr>\n",
       "    <tr>\n",
       "      <th>4</th>\n",
       "      <td>4.051282</td>\n",
       "      <td>5.486178</td>\n",
       "      <td>6.215385</td>\n",
       "      <td>0.656522</td>\n",
       "      <td>0.531742</td>\n",
       "      <td>0.006570</td>\n",
       "      <td>0.213191</td>\n",
       "      <td>6.918153</td>\n",
       "      <td>6.184943</td>\n",
       "    </tr>\n",
       "  </tbody>\n",
       "</table>\n",
       "</div>"
      ],
      "text/plain": [
       "          x  y_actual  y_prediccion       SSR       SSD       SST    beta_n  \\\n",
       "0  2.548156  4.560985      5.764447  0.129113  1.448322  0.712572 -0.951441   \n",
       "1 -0.442607  5.456395      4.867218  0.289343  0.347130  0.002629 -0.095551   \n",
       "2 -0.062845  4.348453      4.981146  0.179757  0.400301  1.116554  1.567983   \n",
       "3  4.153368  6.426827      6.246011  0.707090  0.032695  1.043877  2.791624   \n",
       "4  4.051282  5.486178      6.215385  0.656522  0.531742  0.006570  0.213191   \n",
       "\n",
       "     beta_d   y_model  \n",
       "0  1.270383  5.739293  \n",
       "1  3.473193  4.852585  \n",
       "2  2.201926  4.965178  \n",
       "3  7.465598  6.215210  \n",
       "4  6.918153  6.184943  "
      ]
     },
     "execution_count": 324,
     "metadata": {},
     "output_type": "execute_result"
    }
   ],
   "source": [
    "data.head()"
   ]
  },
  {
   "cell_type": "code",
   "execution_count": 325,
   "id": "8ae1ca14",
   "metadata": {},
   "outputs": [],
   "source": [
    "SSR = sum((data[\"y_model\"] - y_mean)**2)\n",
    "SSD = sum((data[\"y_model\"] - data[\"y_actual\"])**2)\n",
    "SST = sum((data[\"y_actual\"] - y_mean)**2)"
   ]
  },
  {
   "cell_type": "code",
   "execution_count": 326,
   "id": "7b465ff4",
   "metadata": {},
   "outputs": [
    {
     "data": {
      "text/plain": [
       "(46.55140693308677, 61.7502172103473, 108.30162414343398)"
      ]
     },
     "execution_count": 326,
     "metadata": {},
     "output_type": "execute_result"
    }
   ],
   "source": [
    "SSR, SSD, SST"
   ]
  },
  {
   "cell_type": "code",
   "execution_count": 327,
   "id": "23104e14",
   "metadata": {},
   "outputs": [],
   "source": [
    "R2 = SSR / SST"
   ]
  },
  {
   "cell_type": "code",
   "execution_count": 328,
   "id": "41cd8fc2",
   "metadata": {},
   "outputs": [
    {
     "data": {
      "text/plain": [
       "0.42983110642398475"
      ]
     },
     "execution_count": 328,
     "metadata": {},
     "output_type": "execute_result"
    }
   ],
   "source": [
    "R2"
   ]
  },
  {
   "cell_type": "markdown",
   "id": "2e22f814",
   "metadata": {},
   "source": [
    "* R2 usando nuestro modelo -> R2 = 0.9715568951050598\n",
    "* R2 usando la predicción  -> R2 = 0.9748982615623478"
   ]
  },
  {
   "cell_type": "code",
   "execution_count": 329,
   "id": "6feb9f40",
   "metadata": {},
   "outputs": [
    {
     "data": {
      "text/plain": [
       "Text(0.5, 1.0, 'Valor Actual vs Preddicción')"
      ]
     },
     "execution_count": 329,
     "metadata": {},
     "output_type": "execute_result"
    },
    {
     "data": {
      "image/png": "[encoded data removed]",
      "text/plain": [
       "<Figure size 432x288 with 1 Axes>"
      ]
     },
     "metadata": {
      "needs_background": "light"
     },
     "output_type": "display_data"
    }
   ],
   "source": [
    "# Graficando\n",
    "y_mean = [np.mean(y_act) for i in range(1, len(x_list) +1)]    # Promedio\n",
    "%matplotlib inline\n",
    "plt.plot(data[\"x\"], data[\"y_prediccion\"], \"blue\")\n",
    "plt.plot(data[\"x\"], data[\"y_actual\"], \"ro\")\n",
    "plt.plot(data[\"x\"], y_mean, \"g\")\n",
    "plt.plot(data[\"x\"], data[\"y_model\"], \"y\")\n",
    "plt.title(\"Predicciones\")\n",
    "\n",
    "# La predicción \"y_prediccion\" (azul) es similar a la predicción que realizamos \"y_model\" (amarillo)"
   ]
  },
  {
   "cell_type": "code",
   "execution_count": null,
   "id": "5584111e",
   "metadata": {},
   "outputs": [],
   "source": [
    "# Nota: La suma de los cuadrados totales (SST), nunca va a cambiar. En este caso es 108.301"
   ]
  },
  {
   "cell_type": "markdown",
   "id": "fc811c9b",
   "metadata": {},
   "source": [
    "## Error Estandar de los Residuos (RSE)"
   ]
  },
  {
   "cell_type": "code",
   "execution_count": 333,
   "id": "e6f68a47",
   "metadata": {},
   "outputs": [
    {
     "data": {
      "text/plain": [
       "0.7937910664957385"
      ]
     },
     "execution_count": 333,
     "metadata": {},
     "output_type": "execute_result"
    }
   ],
   "source": [
    "RSE = np.sqrt(SSD/(len(data)-2))\n",
    "RSE   ## Mientras más cercano a 0 sea RSE, mejor será el modelo"
   ]
  },
  {
   "cell_type": "code",
   "execution_count": 334,
   "id": "313554d4",
   "metadata": {},
   "outputs": [
    {
     "data": {
      "text/plain": [
       "5.405124234520571"
      ]
     },
     "execution_count": 334,
     "metadata": {},
     "output_type": "execute_result"
    }
   ],
   "source": [
    "np.mean(data[\"y_actual\"])"
   ]
  },
  {
   "cell_type": "code",
   "execution_count": 335,
   "id": "618da29e",
   "metadata": {},
   "outputs": [
    {
     "data": {
      "text/plain": [
       "0.1468589864088752"
      ]
     },
     "execution_count": 335,
     "metadata": {},
     "output_type": "execute_result"
    }
   ],
   "source": [
    "RSE / np.mean(data[\"y_actual\"])"
   ]
  },
  {
   "cell_type": "code",
   "execution_count": 336,
   "id": "b77a91b9",
   "metadata": {},
   "outputs": [],
   "source": [
    "# Por lo tanto el modelo tendría un 14% de error."
   ]
  },
  {
   "cell_type": "code",
   "execution_count": null,
   "id": "9643242c",
   "metadata": {},
   "outputs": [],
   "source": []
  }
 ],
 "metadata": {
  "kernelspec": {
   "display_name": "Python 3 (ipykernel)",
   "language": "python",
   "name": "python3"
  },
  "language_info": {
   "codemirror_mode": {
    "name": "ipython",
    "version": 3
   },
   "file_extension": ".py",
   "mimetype": "text/x-python",
   "name": "python",
   "nbconvert_exporter": "python",
   "pygments_lexer": "ipython3",
   "version": "3.9.7"
  }
 },
 "nbformat": 4,
 "nbformat_minor": 5
}
