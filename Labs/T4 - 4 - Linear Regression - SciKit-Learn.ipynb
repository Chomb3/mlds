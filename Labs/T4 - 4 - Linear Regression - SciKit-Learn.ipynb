{
 "cells": [
  {
   "cell_type": "markdown",
   "id": "442ee34d",
   "metadata": {},
   "source": [
    "## Regresión Lineal en Python\n",
    "### El paquete Scikit-learn para Regresión Lineal y la Selección de Rasgos"
   ]
  },
  {
   "cell_type": "code",
   "execution_count": 52,
   "id": "e0d34983",
   "metadata": {},
   "outputs": [],
   "source": [
    "from sklearn.feature_selection import RFE\n",
    "from sklearn.svm import SVR\n",
    "import pandas as pd"
   ]
  },
  {
   "cell_type": "code",
   "execution_count": 53,
   "id": "f46c3454",
   "metadata": {},
   "outputs": [],
   "source": [
    "data = pd.read_csv(\"../../ReposCurso/python-ml-course/datasets/ads/Advertising.csv\")"
   ]
  },
  {
   "cell_type": "code",
   "execution_count": 54,
   "id": "d13872c6",
   "metadata": {},
   "outputs": [],
   "source": [
    "feature_cols = [\"TV\", \"Radio\", \"Newspaper\"]"
   ]
  },
  {
   "cell_type": "code",
   "execution_count": 55,
   "id": "953710c1",
   "metadata": {},
   "outputs": [],
   "source": [
    "X = data[feature_cols]   ## Dataset con las columnas candidatas a ser predictoras\n",
    "Y = data[\"Sales\"]        ## Dataset con la variable a ser predecida"
   ]
  },
  {
   "cell_type": "code",
   "execution_count": 56,
   "id": "f12ff2e4",
   "metadata": {},
   "outputs": [],
   "source": [
    "estimator = SVR(kernel=\"linear\")  # Queremos estimar un modelo lineal\n",
    "selector = RFE(estimator, n_features_to_select=2, step=1)   \n",
    "selector = selector.fit(X,Y)\n",
    "# n_features_to_select=2 -> Quiero dos variables predictoras \n",
    "# step = 1, que haga un solo paso"
   ]
  },
  {
   "cell_type": "code",
   "execution_count": 57,
   "id": "08e86c4d",
   "metadata": {},
   "outputs": [
    {
     "data": {
      "text/plain": [
       "array([ True,  True, False])"
      ]
     },
     "execution_count": 57,
     "metadata": {},
     "output_type": "execute_result"
    }
   ],
   "source": [
    "# Para obtener la lista de variables seleccionadas:\n",
    "selector.support_"
   ]
  },
  {
   "cell_type": "markdown",
   "id": "409f5bc4",
   "metadata": {},
   "source": [
    "Por lo tanto se quedó con TV (true), Radio (true) y descartó Newspaper (false), como cuando calculamos manualmente."
   ]
  },
  {
   "cell_type": "code",
   "execution_count": 58,
   "id": "004a3be3",
   "metadata": {},
   "outputs": [
    {
     "data": {
      "text/plain": [
       "array([1, 1, 2])"
      ]
     },
     "execution_count": 58,
     "metadata": {},
     "output_type": "execute_result"
    }
   ],
   "source": [
    "# Podemos ver un ranking de las mejores variables (las seleccionadas siempre serán 1)\n",
    "selector.ranking_"
   ]
  },
  {
   "cell_type": "code",
   "execution_count": 59,
   "id": "61fe19d4",
   "metadata": {},
   "outputs": [],
   "source": [
    "# Scikit-learn tambien tiene integrada la Regresión Lineal\n",
    "from sklearn.linear_model import LinearRegression"
   ]
  },
  {
   "cell_type": "code",
   "execution_count": 60,
   "id": "8bd583e0",
   "metadata": {},
   "outputs": [],
   "source": [
    "X_pred = X[[\"TV\", \"Radio\"]]"
   ]
  },
  {
   "cell_type": "code",
   "execution_count": 61,
   "id": "94d29317",
   "metadata": {},
   "outputs": [
    {
     "data": {
      "text/plain": [
       "LinearRegression()"
      ]
     },
     "execution_count": 61,
     "metadata": {},
     "output_type": "execute_result"
    }
   ],
   "source": [
    "lm = LinearRegression()\n",
    "lm.fit(X_pred, Y)"
   ]
  },
  {
   "cell_type": "code",
   "execution_count": 63,
   "id": "12d880db",
   "metadata": {},
   "outputs": [
    {
     "data": {
      "text/plain": [
       "2.9210999124051362"
      ]
     },
     "execution_count": 63,
     "metadata": {},
     "output_type": "execute_result"
    }
   ],
   "source": [
    "lm.intercept_   # Donde corta el eje"
   ]
  },
  {
   "cell_type": "code",
   "execution_count": 65,
   "id": "1cb0efa7",
   "metadata": {},
   "outputs": [
    {
     "data": {
      "text/plain": [
       "array([0.04575482, 0.18799423])"
      ]
     },
     "execution_count": 65,
     "metadata": {},
     "output_type": "execute_result"
    }
   ],
   "source": [
    "lm.coef_  # Son los coeficientes de la regresion lineal -> regresion = 2.9210 + 0.04575 * TV + 0.18799 * Radio"
   ]
  },
  {
   "cell_type": "code",
   "execution_count": 67,
   "id": "c4882228",
   "metadata": {},
   "outputs": [
    {
     "data": {
      "text/plain": [
       "0.8971942610828956"
      ]
     },
     "execution_count": 67,
     "metadata": {},
     "output_type": "execute_result"
    }
   ],
   "source": [
    "lm.score(X_pred, Y)  # Valor de R^2 ajustado"
   ]
  }
 ],
 "metadata": {
  "kernelspec": {
   "display_name": "Python 3 (ipykernel)",
   "language": "python",
   "name": "python3"
  },
  "language_info": {
   "codemirror_mode": {
    "name": "ipython",
    "version": 3
   },
   "file_extension": ".py",
   "mimetype": "text/x-python",
   "name": "python",
   "nbconvert_exporter": "python",
   "pygments_lexer": "ipython3",
   "version": "3.9.7"
  }
 },
 "nbformat": 4,
 "nbformat_minor": 5
}
